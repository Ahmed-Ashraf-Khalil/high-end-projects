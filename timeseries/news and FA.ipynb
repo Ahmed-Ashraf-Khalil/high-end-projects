{
 "cells": [
  {
   "cell_type": "markdown",
   "id": "b3a784cf-39dd-47cb-b3ce-43bf17047665",
   "metadata": {},
   "source": [
    "# News and Fundamental analysis"
   ]
  },
  {
   "cell_type": "code",
   "execution_count": 1,
   "id": "7bf50ccb-c4bc-44b3-845e-638062157cb3",
   "metadata": {},
   "outputs": [],
   "source": [
    "from news import news_and_FA\n",
    "from datetime import date,timedelta"
   ]
  },
  {
   "cell_type": "code",
   "execution_count": 2,
   "id": "9c5ca269-e70d-4b33-8a54-732dcd5ce5b3",
   "metadata": {},
   "outputs": [],
   "source": [
    "PSID = \"your cookie token\"\n",
    "PSIDTS = \"your cookie token\"\n",
    "PSIDCC = \"your cookie token\"\n",
    "\n",
    "# Available at https://bard.google.com inspect-> application-> cookies-> first folder-> copy value of __Secure-1PSID,PSIDTS,PSIDCC\n",
    "\n",
    "token_Finhub = \"your cookie token\"\n",
    "# Available at https://finnhub.io/dashboard\n",
    "\n",
    "yesterday = str(date.today() - timedelta(days = 1))\n",
    "today = str(date.today())"
   ]
  },
  {
   "cell_type": "code",
   "execution_count": 7,
   "id": "3c0fd15d-5bc5-4ee6-9f0b-e6287181f08b",
   "metadata": {},
   "outputs": [
    {
     "name": "stderr",
     "output_type": "stream",
     "text": [
      "Downloading Titles: 100%|██████████| 1/1 [00:01<00:00,  1.68s/it]\n"
     ]
    },
    {
     "data": {
      "application/vnd.jupyter.widget-view+json": {
       "model_id": "34d21db855704a57bf78791f5c0678b4",
       "version_major": 2,
       "version_minor": 0
      },
      "text/plain": [
       "  0%|          | 0/2 [00:00<?, ?it/s]"
      ]
     },
     "metadata": {},
     "output_type": "display_data"
    },
    {
     "name": "stdout",
     "output_type": "stream",
     "text": [
      "News and Answers of AAPL Done\n"
     ]
    },
    {
     "name": "stderr",
     "output_type": "stream",
     "text": [
      "Downloading Titles: 100%|██████████| 1/1 [00:01<00:00,  1.64s/it]\n"
     ]
    },
    {
     "data": {
      "application/vnd.jupyter.widget-view+json": {
       "model_id": "270b8b0d28cc414fb026a20deda773f6",
       "version_major": 2,
       "version_minor": 0
      },
      "text/plain": [
       "  0%|          | 0/2 [00:00<?, ?it/s]"
      ]
     },
     "metadata": {},
     "output_type": "display_data"
    },
    {
     "name": "stdout",
     "output_type": "stream",
     "text": [
      "News and Answers of META Done\n"
     ]
    },
    {
     "name": "stderr",
     "output_type": "stream",
     "text": [
      "Downloading Titles: 100%|██████████| 1/1 [00:01<00:00,  1.84s/it]\n"
     ]
    },
    {
     "data": {
      "application/vnd.jupyter.widget-view+json": {
       "model_id": "ca73342c1a4c4f77be50c5e90a7e9d91",
       "version_major": 2,
       "version_minor": 0
      },
      "text/plain": [
       "  0%|          | 0/2 [00:00<?, ?it/s]"
      ]
     },
     "metadata": {},
     "output_type": "display_data"
    },
    {
     "name": "stdout",
     "output_type": "stream",
     "text": [
      "News and Answers of TSLA Done\n"
     ]
    },
    {
     "name": "stderr",
     "output_type": "stream",
     "text": [
      "Downloading Titles: 100%|██████████| 1/1 [00:01<00:00,  1.67s/it]\n"
     ]
    },
    {
     "data": {
      "application/vnd.jupyter.widget-view+json": {
       "model_id": "b038f89b665d41bcb07ef300ab7b4323",
       "version_major": 2,
       "version_minor": 0
      },
      "text/plain": [
       "  0%|          | 0/2 [00:00<?, ?it/s]"
      ]
     },
     "metadata": {},
     "output_type": "display_data"
    },
    {
     "name": "stdout",
     "output_type": "stream",
     "text": [
      "News and Answers of GOOG Done\n"
     ]
    }
   ],
   "source": [
    "tickers = [\"AAPL\",\"META\",\"TSLA\",\"GOOG\"]\n",
    "\n",
    "dictionary_of_news = {}\n",
    "\n",
    "for i in tickers:\n",
    "    news_df,answers = news_and_FA(ticker = i,\n",
    "                                  PSID = PSID,\n",
    "                                  PSIDTS = PSIDTS,\n",
    "                                  PSIDCC = PSIDCC,                              \n",
    "                                  finhub_token=token_Finhub,\n",
    "                                  start_date=yesterday,\n",
    "                                  end_date=today)\n",
    "    \n",
    "    dictionary_of_news[i] = [news_df,answers]\n",
    "    \n",
    "    print(f\"News and Answers of {i} Done\")"
   ]
  },
  {
   "cell_type": "code",
   "execution_count": 8,
   "id": "d6777f66-34a4-46fb-bfc1-3dac3d551a2b",
   "metadata": {},
   "outputs": [
    {
     "name": "stdout",
     "output_type": "stream",
     "text": [
      "Sure, here is a brief summary of the news you provided and an analysis of the possible trend of Tesla's stock price:\n",
      "\n",
      "* **Elon Musk Should Focus on Tesla as EV Rivals Pounce, Investors Say:** This news article suggests that Tesla's stock price could be in for some volatility as other electric vehicle (EV) manufacturers, such as Ford and Rivian, start to release their own models. Investors are concerned that Tesla may not be able to maintain its dominance in the EV market if these rivals are successful.\n",
      "* **Tesla Has Finally Started Building Cybertrucks in a Slowing EV Market:** This news article reports that Tesla has begun production of its Cybertruck, a polarizing electric pickup truck. However, the EV market as a whole is slowing down, which could put pressure on Tesla's stock price.\n",
      "* **Ford slashes prices of F-150 Lightning trucks as EV price war heats up:** This news article reports that Ford has slashed the prices of its F-150 Lightning electric pickup truck in an attempt to compete with Tesla's Cybertruck. This price cut could put downward pressure on Tesla's stock price.\n",
      "\n",
      "Based on these news articles, it is possible that Tesla's stock price could trend downward in the near future. However, it is important to note that there are other factors that could also affect the stock price, such as Tesla's earnings reports and the overall state of the economy.\n",
      "\n",
      "Here are some possible trends for Tesla's stock price based on different possible assumptions:\n",
      "\n",
      "* **Assumption 1:** Tesla's earnings reports are strong and the overall economy is doing well. In this case, Tesla's stock price could trend upward.\n",
      "* **Assumption 2:** Tesla's earnings reports are weak and the overall economy is doing poorly. In this case, Tesla's stock price could trend downward.\n",
      "* **Assumption 3:** Tesla's earnings reports are strong, but the overall economy is doing poorly. In this case, Tesla's stock price could be volatile, with both upward and downward movements.\n",
      "\n",
      "It is important to note that these are just possible trends and the actual trend of Tesla's stock price will depend on a variety of factors.\n"
     ]
    }
   ],
   "source": [
    "print(dictionary_of_news[\"TSLA\"][1][yesterday])"
   ]
  },
  {
   "cell_type": "code",
   "execution_count": 9,
   "id": "69701279-51c5-4d5c-b3d5-5edc49226185",
   "metadata": {},
   "outputs": [
    {
     "name": "stdout",
     "output_type": "stream",
     "text": [
      "Sure, here is a brief summary of the news you provided and an analysis of the possible trend of Tesla's stock price:\n",
      "\n",
      "* **Dow Jones Futures Fall: Tesla Hits 2023 High On First Austin Cybertruck; AT&T, Verizon Plunge:** This news article reports that Tesla's stock price hit a 2023 high on news that the company had produced its first Cybertruck at its Austin, Texas factory. However, the stock prices of AT&T and Verizon fell sharply, as investors worried about the impact of rising interest rates on the telecom industry.\n",
      "\n",
      "Based on this news, it is possible that Tesla's stock price could continue to trend upward in the near future. However, it is important to note that there are other factors that could also affect the stock price, such as the overall state of the economy and the performance of Tesla's competitors.\n",
      "\n",
      "Here are some possible trends for Tesla's stock price based on different possible assumptions:\n",
      "\n",
      "* **Assumption 1:** The overall economy is doing well and Tesla's competitors are struggling. In this case, Tesla's stock price could continue to trend upward.\n",
      "* **Assumption 2:** The overall economy is doing poorly and Tesla's competitors are doing well. In this case, Tesla's stock price could trend downward.\n",
      "* **Assumption 3:** The overall economy is doing well, but Tesla's competitors are also doing well. In this case, Tesla's stock price could remain relatively flat.\n",
      "\n",
      "It is important to note that these are just possible trends and the actual trend of Tesla's stock price will depend on a variety of factors.\n",
      "\n",
      "Here are some additional factors that could affect Tesla's stock price in the near future:\n",
      "\n",
      "* **Tesla's earnings reports:** Tesla is scheduled to release its second-quarter earnings report on July 20, 2023. If the earnings report is strong, it could boost Tesla's stock price.\n",
      "* **The release of the Cybertruck:** Tesla is expected to begin deliveries of the Cybertruck later this year. If the Cybertruck is well-received by consumers, it could boost Tesla's stock price.\n",
      "* **The overall state of the economy:** If the economy continues to do well, it could boost Tesla's stock price. However, if the economy weakens, it could put downward pressure on Tesla's stock price.\n",
      "\n",
      "Overall, the future trend of Tesla's stock price is uncertain. However, the news that Tesla has produced its first Cybertruck at its Austin, Texas factory is a positive sign for the company. If the Cybertruck is well-received by consumers and the overall economy remains strong, Tesla's stock price could continue to trend upward in the near future.\n"
     ]
    }
   ],
   "source": [
    "print(dictionary_of_news[\"TSLA\"][1][today])"
   ]
  },
  {
   "cell_type": "code",
   "execution_count": 10,
   "id": "f80e12f0-b64b-4e74-ac16-68046e724442",
   "metadata": {},
   "outputs": [
    {
     "name": "stdout",
     "output_type": "stream",
     "text": [
      "Sure, here is a brief summary of the news about Meta Platforms, Inc. (META) and a possible trend of its stock price:\n",
      "\n",
      "* **Leaven Partners Second Quarter 2023 Letter To Partners:** The letter said that Meta is \"fairly priced\" but that upcoming earnings could move the dial.\n",
      "* **Activision Blizzard stock climbs on another court win, Tesla shares rise on Cybertruck rollout and other stocks on the move:** Meta shares were mixed in the wake of these news.\n",
      "* **Meta Platforms: Fairly Priced But Upcoming Earnings Could Move The Dial:** The article said that Meta is \"fairly priced\" but that upcoming earnings could move the dial.\n",
      "* **Norway regulator to fine Meta over privacy breaches:** Meta could be fined $100,000 per day for privacy breaches in Norway.\n",
      "* **The Zacks Analyst Blog Highlights NVIDIA, Palo Alto, Meta Platforms, Marriott International and DraftKings:** The article said that Meta is a \"top pick\" among FAANG stocks.\n",
      "* **Nvidia’s stock could have a pathway to $600, Citi says:** Citi analysts said that Nvidia's stock could reach $600 in the long term.\n",
      "* **Mirror, Mirror, on the Wall, Which Is the Cheapest FAANG Stock of Them All?** The article said that Meta is the cheapest FAANG stock.\n",
      "* **Meta Platforms vs. Alphabet: Which big tech stock is a better buy?** The article said that Meta and Alphabet are both good investments, but that Meta is a better value.\n",
      "* **More than 219,000 global tech workers have lost their jobs this year:** Meta could be affected by the tech layoffs.\n",
      "* **5 Tech Stocks Reveal Heavy Call Options Flow: DIS, NVDA, META, TSLA, NKE:** The article said that there is a lot of call option activity in Meta stock.\n",
      "* **3 Reasons Meta's Threads Could Be an Even Bigger Value-Add Than Reels:** The article said that Meta's Threads could be a big success.\n",
      "* **Meta Analysts Lift Price Targets, Citing Rebound in Digital Ad Business:** Meta analysts have raised their price targets for the stock.\n",
      "* **Meta is still at the 'early stages' of many catalysts, analyst says:** The analyst said that Meta is still in the early stages of growth.\n",
      "* **Tesla, Apple, Nvidia, Meta: Why Big Tech gains are forcing a Nasdaq 100 rebalance:** Meta could be affected by the Nasdaq 100 rebalance.\n",
      "* **Meta Platforms Inc. stock rises Monday, still underperforms market:** Meta stock rose on Monday, but it still underperformed the market.\n",
      "* **Meta faces $100K daily fine from Norway regulator over privacy concerns in user advertising:** Meta could be fined $100,000 per day for privacy concerns in user advertising.\n",
      "* **Threads continues to unravel in usage:** Meta's Threads app is not seeing much usage.\n",
      "* **Meta's recording studio:** Meta is opening a recording studio in Los Angeles.\n",
      "* **Zuckerberg And Musk To Enter The AI Ring And Challenge OpenAI, Microsoft And Google:** Meta and Tesla are both investing in AI.\n",
      "* **Who Pays Employees Better — Elon Musk or Mark Zuckerberg? Or Jeff Bezos?:** The article compares the salaries of Meta, Tesla, and Amazon employees.\n",
      "* **Meta’s Threads Faces Lawmaker Scrutiny Shortly After Launch:** Meta's Threads app is facing scrutiny from lawmakers.\n",
      "* **Finally, The U.S. Markets Are Making Sense Again!:** The article says that the U.S. markets are finally starting to make sense.\n",
      "* **Meta Faces Weight Cut in Nasdaq 100’s Special Rebalance:** Meta could lose weight in the Nasdaq 100.\n",
      "\n",
      "Based on the news, it is difficult to say with certainty what the trend of Meta's stock price will be. However, some possible trends include:\n",
      "\n",
      "* The stock could continue to trade sideways or slightly down in the near term.\n",
      "* The stock could rebound in the second half of the year, driven by strong earnings growth.\n",
      "* The stock could be volatile in the near term, as it is affected by a number of factors, including the tech layoffs, the Nasdaq 100 rebalance, and the privacy concerns.\n",
      "\n",
      "Ultimately, the trend of Meta's stock price will depend on a number of factors, including the company's earnings performance, the overall market environment, and the regulatory landscape.\n"
     ]
    }
   ],
   "source": [
    "print(dictionary_of_news[\"META\"][1][yesterday])"
   ]
  },
  {
   "cell_type": "code",
   "execution_count": 11,
   "id": "6f1d6f0d-6af7-4836-8fab-6cca45be00f7",
   "metadata": {},
   "outputs": [
    {
     "name": "stdout",
     "output_type": "stream",
     "text": [
      "Sure, here is a brief summary of the news about Meta Platforms, Inc. (META) and a possible trend of its stock price:\n",
      "\n",
      "**News:**\n",
      "\n",
      "* Leaven Partners Second Quarter 2023 Letter To Partners\n",
      "* Activision Blizzard stock climbs on another court win, Tesla shares rise on Cybertruck rollout and other stocks on the move\n",
      "* Meta Platforms: Fairly Priced But Upcoming Earnings Could Move The Dial\n",
      "* Norway regulator to fine Meta over privacy breaches\n",
      "* The Zacks Analyst Blog Highlights NVIDIA, Palo Alto, Meta Platforms, Marriott International and DraftKings\n",
      "* Nvidia’s stock could have a pathway to $600, Citi says\n",
      "* Mirror, Mirror, on the Wall, Which Is the Cheapest FAANG Stock of Them All?\n",
      "* Meta Platforms vs. Alphabet: Which big tech stock is a better buy?\n",
      "* More than 219,000 global tech workers have lost their jobs this year\n",
      "* 5 Tech Stocks Reveal Heavy Call Options Flow: DIS, NVDA, META, TSLA, NKE\n",
      "* 3 Reasons Meta's Threads Could Be an Even Bigger Value-Add Than Reels\n",
      "* Meta Analysts Lift Price Targets, Citing Rebound in Digital Ad Business\n",
      "* Meta is still at the 'early stages' of many catalysts, analyst says\n",
      "* Tesla, Apple, Nvidia, Meta: Why Big Tech gains are forcing a Nasdaq 100 rebalance\n",
      "* Meta Platforms Inc. stock rises Monday, still underperforms market\n",
      "* Meta faces $100K daily fine from Norway regulator over privacy concerns in user advertising\n",
      "* Threads continues to unravel in usage\n",
      "* Meta's recording studio\n",
      "* Zuckerberg And Musk To Enter The AI Ring And Challenge OpenAI, Microsoft And Google\n",
      "* Who Pays Employees Better — Elon Musk or Mark Zuckerberg? Or Jeff Bezos?\n",
      "* Meta’s Threads Faces Lawmaker Scrutiny Shortly After Launch\n",
      "* Finally, The U.S. Markets Are Making Sense Again!\n",
      "* Meta Faces Weight Cut in Nasdaq 100’s Special Rebalance\n",
      "\n",
      "**Summary:**\n",
      "\n",
      "* The news is mixed, with some positive and some negative sentiment.\n",
      "* The positive news includes the company's strong earnings growth, the launch of new products, and the investment in AI.\n",
      "* The negative news includes the tech layoffs, the privacy concerns, and the Nasdaq 100 rebalance.\n",
      "\n",
      "**Possible trend of the stock price:**\n",
      "\n",
      "* The stock could continue to trade sideways or slightly down in the near term.\n",
      "* The stock could rebound in the second half of the year, driven by strong earnings growth.\n",
      "* The stock could be volatile in the near term, as it is affected by a number of factors, including the tech layoffs, the Nasdaq 100 rebalance, and the privacy concerns.\n",
      "\n",
      "**Trends results based on different possible assumptions:**\n",
      "\n",
      "* **Assumption 1:** The tech layoffs continue and the privacy concerns worsen. In this scenario, the stock price could decline in the near term.\n",
      "* **Assumption 2:** The tech layoffs end and the privacy concerns are resolved. In this scenario, the stock price could rebound in the near term.\n",
      "* **Assumption 3:** The tech layoffs continue, but the privacy concerns are resolved. In this scenario, the stock price could be volatile in the near term.\n",
      "\n",
      "Ultimately, the trend of Meta's stock price will depend on a number of factors, including the company's earnings performance, the overall market environment, and the regulatory landscape.\n"
     ]
    }
   ],
   "source": [
    "print(dictionary_of_news[\"META\"][1][today])"
   ]
  },
  {
   "cell_type": "code",
   "execution_count": null,
   "id": "e2db25c9-877b-41d6-a1d2-f8fe91dc579e",
   "metadata": {},
   "outputs": [],
   "source": []
  }
 ],
 "metadata": {
  "kernelspec": {
   "display_name": "Python 3 (ipykernel)",
   "language": "python",
   "name": "python3"
  },
  "language_info": {
   "codemirror_mode": {
    "name": "ipython",
    "version": 3
   },
   "file_extension": ".py",
   "mimetype": "text/x-python",
   "name": "python",
   "nbconvert_exporter": "python",
   "pygments_lexer": "ipython3",
   "version": "3.9.13"
  }
 },
 "nbformat": 4,
 "nbformat_minor": 5
}
